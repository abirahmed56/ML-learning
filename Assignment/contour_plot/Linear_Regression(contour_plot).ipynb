{
  "cells": [
    {
      "cell_type": "markdown",
      "source": [
        "### **Univariate Linear Regression**"
      ],
      "metadata": {
        "id": "z7EfrsmVQe3H"
      }
    },
    {
      "cell_type": "code",
      "execution_count": 32,
      "metadata": {
        "colab": {
          "base_uri": "https://localhost:8080/"
        },
        "id": "_EZy_OwB7v3t",
        "outputId": "a26028cc-5a4d-4df9-8330-6f3b09a70b62"
      },
      "outputs": [
        {
          "output_type": "stream",
          "name": "stdout",
          "text": [
            "Drive already mounted at /content/drive; to attempt to forcibly remount, call drive.mount(\"/content/drive\", force_remount=True).\n"
          ]
        }
      ],
      "source": [
        "import pandas as pd\n",
        "import matplotlib.pyplot as plt\n",
        "import csv\n",
        "import numpy as np\n",
        "import seaborn as sns\n",
        "# from google.colab import files\n",
        "# uploaded = files.upload()\n",
        "from google.colab import drive\n",
        "drive.mount('/content/drive')"
      ]
    },
    {
      "cell_type": "code",
      "source": [
        "data = pd.read_csv('/content/drive/MyDrive/Datasets/4K_House_Rent_Dataset.csv')\n",
        "data.head()"
      ],
      "metadata": {
        "colab": {
          "base_uri": "https://localhost:8080/",
          "height": 382
        },
        "id": "e1TjX6Xu9F18",
        "outputId": "0d37e92d-a9b5-455d-ffee-25750fa238a3"
      },
      "execution_count": 23,
      "outputs": [
        {
          "output_type": "execute_result",
          "data": {
            "text/plain": [
              "    Posted On  BHK   Rent  Size            Floor    Area Type  \\\n",
              "0  2022-05-18    2  10000  1100  Ground out of 2   Super Area   \n",
              "1  2022-05-13    2  20000   800       1 out of 3   Super Area   \n",
              "2  2022-05-16    2  17000  1000       1 out of 3   Super Area   \n",
              "3  2022-07-04    2  10000   800       1 out of 2   Super Area   \n",
              "4  2022-05-09    2   7500   850       1 out of 2  Carpet Area   \n",
              "\n",
              "              Area Locality     City Furnishing Status  Tenant Preferred  \\\n",
              "0                    Bandel  Kolkata       Unfurnished  Bachelors/Family   \n",
              "1  Phool Bagan, Kankurgachi  Kolkata    Semi-Furnished  Bachelors/Family   \n",
              "2   Salt Lake City Sector 2  Kolkata    Semi-Furnished  Bachelors/Family   \n",
              "3               Dumdum Park  Kolkata       Unfurnished  Bachelors/Family   \n",
              "4             South Dum Dum  Kolkata       Unfurnished         Bachelors   \n",
              "\n",
              "   Bathroom Point of Contact  \n",
              "0         2    Contact Owner  \n",
              "1         1    Contact Owner  \n",
              "2         1    Contact Owner  \n",
              "3         1    Contact Owner  \n",
              "4         1    Contact Owner  "
            ],
            "text/html": [
              "\n",
              "  <div id=\"df-9df98343-fc94-4c0a-ba32-db893b27eed9\" class=\"colab-df-container\">\n",
              "    <div>\n",
              "<style scoped>\n",
              "    .dataframe tbody tr th:only-of-type {\n",
              "        vertical-align: middle;\n",
              "    }\n",
              "\n",
              "    .dataframe tbody tr th {\n",
              "        vertical-align: top;\n",
              "    }\n",
              "\n",
              "    .dataframe thead th {\n",
              "        text-align: right;\n",
              "    }\n",
              "</style>\n",
              "<table border=\"1\" class=\"dataframe\">\n",
              "  <thead>\n",
              "    <tr style=\"text-align: right;\">\n",
              "      <th></th>\n",
              "      <th>Posted On</th>\n",
              "      <th>BHK</th>\n",
              "      <th>Rent</th>\n",
              "      <th>Size</th>\n",
              "      <th>Floor</th>\n",
              "      <th>Area Type</th>\n",
              "      <th>Area Locality</th>\n",
              "      <th>City</th>\n",
              "      <th>Furnishing Status</th>\n",
              "      <th>Tenant Preferred</th>\n",
              "      <th>Bathroom</th>\n",
              "      <th>Point of Contact</th>\n",
              "    </tr>\n",
              "  </thead>\n",
              "  <tbody>\n",
              "    <tr>\n",
              "      <th>0</th>\n",
              "      <td>2022-05-18</td>\n",
              "      <td>2</td>\n",
              "      <td>10000</td>\n",
              "      <td>1100</td>\n",
              "      <td>Ground out of 2</td>\n",
              "      <td>Super Area</td>\n",
              "      <td>Bandel</td>\n",
              "      <td>Kolkata</td>\n",
              "      <td>Unfurnished</td>\n",
              "      <td>Bachelors/Family</td>\n",
              "      <td>2</td>\n",
              "      <td>Contact Owner</td>\n",
              "    </tr>\n",
              "    <tr>\n",
              "      <th>1</th>\n",
              "      <td>2022-05-13</td>\n",
              "      <td>2</td>\n",
              "      <td>20000</td>\n",
              "      <td>800</td>\n",
              "      <td>1 out of 3</td>\n",
              "      <td>Super Area</td>\n",
              "      <td>Phool Bagan, Kankurgachi</td>\n",
              "      <td>Kolkata</td>\n",
              "      <td>Semi-Furnished</td>\n",
              "      <td>Bachelors/Family</td>\n",
              "      <td>1</td>\n",
              "      <td>Contact Owner</td>\n",
              "    </tr>\n",
              "    <tr>\n",
              "      <th>2</th>\n",
              "      <td>2022-05-16</td>\n",
              "      <td>2</td>\n",
              "      <td>17000</td>\n",
              "      <td>1000</td>\n",
              "      <td>1 out of 3</td>\n",
              "      <td>Super Area</td>\n",
              "      <td>Salt Lake City Sector 2</td>\n",
              "      <td>Kolkata</td>\n",
              "      <td>Semi-Furnished</td>\n",
              "      <td>Bachelors/Family</td>\n",
              "      <td>1</td>\n",
              "      <td>Contact Owner</td>\n",
              "    </tr>\n",
              "    <tr>\n",
              "      <th>3</th>\n",
              "      <td>2022-07-04</td>\n",
              "      <td>2</td>\n",
              "      <td>10000</td>\n",
              "      <td>800</td>\n",
              "      <td>1 out of 2</td>\n",
              "      <td>Super Area</td>\n",
              "      <td>Dumdum Park</td>\n",
              "      <td>Kolkata</td>\n",
              "      <td>Unfurnished</td>\n",
              "      <td>Bachelors/Family</td>\n",
              "      <td>1</td>\n",
              "      <td>Contact Owner</td>\n",
              "    </tr>\n",
              "    <tr>\n",
              "      <th>4</th>\n",
              "      <td>2022-05-09</td>\n",
              "      <td>2</td>\n",
              "      <td>7500</td>\n",
              "      <td>850</td>\n",
              "      <td>1 out of 2</td>\n",
              "      <td>Carpet Area</td>\n",
              "      <td>South Dum Dum</td>\n",
              "      <td>Kolkata</td>\n",
              "      <td>Unfurnished</td>\n",
              "      <td>Bachelors</td>\n",
              "      <td>1</td>\n",
              "      <td>Contact Owner</td>\n",
              "    </tr>\n",
              "  </tbody>\n",
              "</table>\n",
              "</div>\n",
              "    <div class=\"colab-df-buttons\">\n",
              "\n",
              "  <div class=\"colab-df-container\">\n",
              "    <button class=\"colab-df-convert\" onclick=\"convertToInteractive('df-9df98343-fc94-4c0a-ba32-db893b27eed9')\"\n",
              "            title=\"Convert this dataframe to an interactive table.\"\n",
              "            style=\"display:none;\">\n",
              "\n",
              "  <svg xmlns=\"http://www.w3.org/2000/svg\" height=\"24px\" viewBox=\"0 -960 960 960\">\n",
              "    <path d=\"M120-120v-720h720v720H120Zm60-500h600v-160H180v160Zm220 220h160v-160H400v160Zm0 220h160v-160H400v160ZM180-400h160v-160H180v160Zm440 0h160v-160H620v160ZM180-180h160v-160H180v160Zm440 0h160v-160H620v160Z\"/>\n",
              "  </svg>\n",
              "    </button>\n",
              "\n",
              "  <style>\n",
              "    .colab-df-container {\n",
              "      display:flex;\n",
              "      gap: 12px;\n",
              "    }\n",
              "\n",
              "    .colab-df-convert {\n",
              "      background-color: #E8F0FE;\n",
              "      border: none;\n",
              "      border-radius: 50%;\n",
              "      cursor: pointer;\n",
              "      display: none;\n",
              "      fill: #1967D2;\n",
              "      height: 32px;\n",
              "      padding: 0 0 0 0;\n",
              "      width: 32px;\n",
              "    }\n",
              "\n",
              "    .colab-df-convert:hover {\n",
              "      background-color: #E2EBFA;\n",
              "      box-shadow: 0px 1px 2px rgba(60, 64, 67, 0.3), 0px 1px 3px 1px rgba(60, 64, 67, 0.15);\n",
              "      fill: #174EA6;\n",
              "    }\n",
              "\n",
              "    .colab-df-buttons div {\n",
              "      margin-bottom: 4px;\n",
              "    }\n",
              "\n",
              "    [theme=dark] .colab-df-convert {\n",
              "      background-color: #3B4455;\n",
              "      fill: #D2E3FC;\n",
              "    }\n",
              "\n",
              "    [theme=dark] .colab-df-convert:hover {\n",
              "      background-color: #434B5C;\n",
              "      box-shadow: 0px 1px 3px 1px rgba(0, 0, 0, 0.15);\n",
              "      filter: drop-shadow(0px 1px 2px rgba(0, 0, 0, 0.3));\n",
              "      fill: #FFFFFF;\n",
              "    }\n",
              "  </style>\n",
              "\n",
              "    <script>\n",
              "      const buttonEl =\n",
              "        document.querySelector('#df-9df98343-fc94-4c0a-ba32-db893b27eed9 button.colab-df-convert');\n",
              "      buttonEl.style.display =\n",
              "        google.colab.kernel.accessAllowed ? 'block' : 'none';\n",
              "\n",
              "      async function convertToInteractive(key) {\n",
              "        const element = document.querySelector('#df-9df98343-fc94-4c0a-ba32-db893b27eed9');\n",
              "        const dataTable =\n",
              "          await google.colab.kernel.invokeFunction('convertToInteractive',\n",
              "                                                    [key], {});\n",
              "        if (!dataTable) return;\n",
              "\n",
              "        const docLinkHtml = 'Like what you see? Visit the ' +\n",
              "          '<a target=\"_blank\" href=https://colab.research.google.com/notebooks/data_table.ipynb>data table notebook</a>'\n",
              "          + ' to learn more about interactive tables.';\n",
              "        element.innerHTML = '';\n",
              "        dataTable['output_type'] = 'display_data';\n",
              "        await google.colab.output.renderOutput(dataTable, element);\n",
              "        const docLink = document.createElement('div');\n",
              "        docLink.innerHTML = docLinkHtml;\n",
              "        element.appendChild(docLink);\n",
              "      }\n",
              "    </script>\n",
              "  </div>\n",
              "\n",
              "\n",
              "<div id=\"df-5a51052c-9767-4170-81cf-7afdf7e7fd18\">\n",
              "  <button class=\"colab-df-quickchart\" onclick=\"quickchart('df-5a51052c-9767-4170-81cf-7afdf7e7fd18')\"\n",
              "            title=\"Suggest charts\"\n",
              "            style=\"display:none;\">\n",
              "\n",
              "<svg xmlns=\"http://www.w3.org/2000/svg\" height=\"24px\"viewBox=\"0 0 24 24\"\n",
              "     width=\"24px\">\n",
              "    <g>\n",
              "        <path d=\"M19 3H5c-1.1 0-2 .9-2 2v14c0 1.1.9 2 2 2h14c1.1 0 2-.9 2-2V5c0-1.1-.9-2-2-2zM9 17H7v-7h2v7zm4 0h-2V7h2v10zm4 0h-2v-4h2v4z\"/>\n",
              "    </g>\n",
              "</svg>\n",
              "  </button>\n",
              "\n",
              "<style>\n",
              "  .colab-df-quickchart {\n",
              "      --bg-color: #E8F0FE;\n",
              "      --fill-color: #1967D2;\n",
              "      --hover-bg-color: #E2EBFA;\n",
              "      --hover-fill-color: #174EA6;\n",
              "      --disabled-fill-color: #AAA;\n",
              "      --disabled-bg-color: #DDD;\n",
              "  }\n",
              "\n",
              "  [theme=dark] .colab-df-quickchart {\n",
              "      --bg-color: #3B4455;\n",
              "      --fill-color: #D2E3FC;\n",
              "      --hover-bg-color: #434B5C;\n",
              "      --hover-fill-color: #FFFFFF;\n",
              "      --disabled-bg-color: #3B4455;\n",
              "      --disabled-fill-color: #666;\n",
              "  }\n",
              "\n",
              "  .colab-df-quickchart {\n",
              "    background-color: var(--bg-color);\n",
              "    border: none;\n",
              "    border-radius: 50%;\n",
              "    cursor: pointer;\n",
              "    display: none;\n",
              "    fill: var(--fill-color);\n",
              "    height: 32px;\n",
              "    padding: 0;\n",
              "    width: 32px;\n",
              "  }\n",
              "\n",
              "  .colab-df-quickchart:hover {\n",
              "    background-color: var(--hover-bg-color);\n",
              "    box-shadow: 0 1px 2px rgba(60, 64, 67, 0.3), 0 1px 3px 1px rgba(60, 64, 67, 0.15);\n",
              "    fill: var(--button-hover-fill-color);\n",
              "  }\n",
              "\n",
              "  .colab-df-quickchart-complete:disabled,\n",
              "  .colab-df-quickchart-complete:disabled:hover {\n",
              "    background-color: var(--disabled-bg-color);\n",
              "    fill: var(--disabled-fill-color);\n",
              "    box-shadow: none;\n",
              "  }\n",
              "\n",
              "  .colab-df-spinner {\n",
              "    border: 2px solid var(--fill-color);\n",
              "    border-color: transparent;\n",
              "    border-bottom-color: var(--fill-color);\n",
              "    animation:\n",
              "      spin 1s steps(1) infinite;\n",
              "  }\n",
              "\n",
              "  @keyframes spin {\n",
              "    0% {\n",
              "      border-color: transparent;\n",
              "      border-bottom-color: var(--fill-color);\n",
              "      border-left-color: var(--fill-color);\n",
              "    }\n",
              "    20% {\n",
              "      border-color: transparent;\n",
              "      border-left-color: var(--fill-color);\n",
              "      border-top-color: var(--fill-color);\n",
              "    }\n",
              "    30% {\n",
              "      border-color: transparent;\n",
              "      border-left-color: var(--fill-color);\n",
              "      border-top-color: var(--fill-color);\n",
              "      border-right-color: var(--fill-color);\n",
              "    }\n",
              "    40% {\n",
              "      border-color: transparent;\n",
              "      border-right-color: var(--fill-color);\n",
              "      border-top-color: var(--fill-color);\n",
              "    }\n",
              "    60% {\n",
              "      border-color: transparent;\n",
              "      border-right-color: var(--fill-color);\n",
              "    }\n",
              "    80% {\n",
              "      border-color: transparent;\n",
              "      border-right-color: var(--fill-color);\n",
              "      border-bottom-color: var(--fill-color);\n",
              "    }\n",
              "    90% {\n",
              "      border-color: transparent;\n",
              "      border-bottom-color: var(--fill-color);\n",
              "    }\n",
              "  }\n",
              "</style>\n",
              "\n",
              "  <script>\n",
              "    async function quickchart(key) {\n",
              "      const quickchartButtonEl =\n",
              "        document.querySelector('#' + key + ' button');\n",
              "      quickchartButtonEl.disabled = true;  // To prevent multiple clicks.\n",
              "      quickchartButtonEl.classList.add('colab-df-spinner');\n",
              "      try {\n",
              "        const charts = await google.colab.kernel.invokeFunction(\n",
              "            'suggestCharts', [key], {});\n",
              "      } catch (error) {\n",
              "        console.error('Error during call to suggestCharts:', error);\n",
              "      }\n",
              "      quickchartButtonEl.classList.remove('colab-df-spinner');\n",
              "      quickchartButtonEl.classList.add('colab-df-quickchart-complete');\n",
              "    }\n",
              "    (() => {\n",
              "      let quickchartButtonEl =\n",
              "        document.querySelector('#df-5a51052c-9767-4170-81cf-7afdf7e7fd18 button');\n",
              "      quickchartButtonEl.style.display =\n",
              "        google.colab.kernel.accessAllowed ? 'block' : 'none';\n",
              "    })();\n",
              "  </script>\n",
              "</div>\n",
              "\n",
              "    </div>\n",
              "  </div>\n"
            ]
          },
          "metadata": {},
          "execution_count": 23
        }
      ]
    },
    {
      "cell_type": "code",
      "source": [
        "y = data['Rent']\n",
        "X = np.column_stack((data['Size'], data['Bathroom']))\n",
        "\n",
        "from sklearn.preprocessing import StandardScaler\n",
        "\n",
        "scaler = StandardScaler()\n",
        "X_scaled = scaler.fit_transform(X)"
      ],
      "metadata": {
        "id": "Cgx_sZvAqU4V"
      },
      "execution_count": 24,
      "outputs": []
    },
    {
      "cell_type": "code",
      "source": [
        "def gradient_descent(W, x, y):\n",
        "    y_hat = x.dot(W).flatten()\n",
        "    error = (y - y_hat)\n",
        "    mse = (1.0 / len(x)) * np.sum(np.square(error))\n",
        "    gradient = -(1.0 / len(x)) * error.dot(x)\n",
        "    return gradient, mse"
      ],
      "metadata": {
        "id": "dCVmlx9Aqn-Z"
      },
      "execution_count": 25,
      "outputs": []
    },
    {
      "cell_type": "code",
      "source": [
        "w = np.array((-40, -40))\n",
        "alpha = .1\n",
        "tolerance = 1e-3\n",
        "\n",
        "old_w = []\n",
        "errors = []"
      ],
      "metadata": {
        "id": "n9ZrtJwgqsN_"
      },
      "execution_count": 26,
      "outputs": []
    },
    {
      "cell_type": "code",
      "source": [
        "iterations = 1\n",
        "for i in range(200):\n",
        "    gradient, error = gradient_descent(w, X_scaled, y)\n",
        "    new_w = w - alpha * gradient\n",
        "\n",
        "    # Print error every 10 iterations\n",
        "    if iterations % 10 == 0:\n",
        "        print(\"Iteration: %d - Error: %.4f\" % (iterations, error))\n",
        "        old_w.append(new_w)\n",
        "        errors.append(error)\n",
        "\n",
        "    # Stopping Condition\n",
        "    if np.sum(abs(new_w - w)) < tolerance:\n",
        "        print('Gradient Descent has converged')\n",
        "        break\n",
        "\n",
        "    iterations += 1\n",
        "    w = new_w\n",
        "\n",
        "print('w =', w)"
      ],
      "metadata": {
        "colab": {
          "base_uri": "https://localhost:8080/"
        },
        "id": "NKyila_lqw-0",
        "outputId": "15b22f75-80da-404e-8ef8-e0e195f7e2ee"
      },
      "execution_count": 33,
      "outputs": [
        {
          "output_type": "stream",
          "name": "stdout",
          "text": [
            "Iteration: 10 - Error: 6034832509.3936\n",
            "Iteration: 20 - Error: 6034832446.8111\n",
            "Iteration: 30 - Error: 6034832409.8062\n",
            "Iteration: 40 - Error: 6034832387.9252\n",
            "Iteration: 50 - Error: 6034832374.9871\n",
            "Iteration: 60 - Error: 6034832367.3368\n",
            "Iteration: 70 - Error: 6034832362.8132\n",
            "Iteration: 80 - Error: 6034832360.1384\n",
            "Iteration: 90 - Error: 6034832358.5568\n",
            "Iteration: 100 - Error: 6034832357.6216\n",
            "Iteration: 110 - Error: 6034832357.0687\n",
            "Iteration: 120 - Error: 6034832356.7417\n",
            "Iteration: 130 - Error: 6034832356.5484\n",
            "Iteration: 140 - Error: 6034832356.4340\n",
            "Iteration: 150 - Error: 6034832356.3664\n",
            "Iteration: 160 - Error: 6034832356.3265\n",
            "Iteration: 170 - Error: 6034832356.3028\n",
            "Iteration: 180 - Error: 6034832356.2889\n",
            "Iteration: 190 - Error: 6034832356.2806\n",
            "Iteration: 200 - Error: 6034832356.2757\n",
            "w = [15008.87085078 23340.96226002]\n"
          ]
        }
      ]
    },
    {
      "cell_type": "code",
      "source": [
        "w"
      ],
      "metadata": {
        "colab": {
          "base_uri": "https://localhost:8080/"
        },
        "id": "elYvKzUnq-8s",
        "outputId": "ec9f9cfd-9b7a-4cc9-d99e-d0c22ceb9cde"
      },
      "execution_count": 34,
      "outputs": [
        {
          "output_type": "execute_result",
          "data": {
            "text/plain": [
              "array([15008.87085078, 23340.96226002])"
            ]
          },
          "metadata": {},
          "execution_count": 34
        }
      ]
    },
    {
      "cell_type": "code",
      "source": [
        "all_ws = np.array(old_w)\n",
        "\n",
        "# Just for visualization\n",
        "errors.append(6000)\n",
        "errors.append(5000)\n",
        "errors.append(4000)\n",
        "errors.append(3000)\n",
        "errors.append(2250)\n",
        "\n",
        "levels = np.sort(np.array(errors))"
      ],
      "metadata": {
        "id": "OnxSLABxrEoW"
      },
      "execution_count": 42,
      "outputs": []
    },
    {
      "cell_type": "code",
      "source": [
        "w0 = np.linspace(-w[0] * 5, w[0] * 5, 100)\n",
        "w1 = np.linspace(-w[1] * 5, w[1] * 5, 100)\n",
        "mse_vals = np.zeros(shape=(w0.size, w1.size))"
      ],
      "metadata": {
        "id": "AZwc3d6hrT54"
      },
      "execution_count": 45,
      "outputs": []
    },
    {
      "cell_type": "code",
      "source": [
        "for i, value1 in enumerate(w0):\n",
        "    for j, value2 in enumerate(w1):\n",
        "        w_temp = np.array((value1,value2))\n",
        "        mse_vals[i, j] = gradient_descent(w_temp, X_scaled, y)[1]"
      ],
      "metadata": {
        "id": "DZXJMdjOrs3a"
      },
      "execution_count": 46,
      "outputs": []
    },
    {
      "cell_type": "code",
      "source": [
        "plt.contourf(w0, w1, mse_vals, levels=np.sort(np.array(errors)), alpha=.7)\n",
        "plt.axhline(0, color='black', alpha=.5, dashes=[2, 4], linewidth=1)\n",
        "plt.axvline(0, color='black', alpha=0.5, dashes=[2, 4], linewidth=1)\n",
        "for i in range(len(old_w) - 1):\n",
        "    if i + 1 < len(all_ws):  # Check if the index is within bounds\n",
        "        plt.annotate('', xy=all_ws[i + 1, :], xytext=all_ws[i, :],\n",
        "                     arrowprops={'arrowstyle': '->', 'color': 'r', 'lw': 1},\n",
        "                     va='center', ha='center')\n",
        "\n",
        "# Sort the errors in increasing order\n",
        "sorted_errors = np.sort(np.array(errors))\n",
        "CS = plt.contour(w0, w1, mse_vals, levels=sorted_errors, linewidths=1, colors='black')\n",
        "plt.clabel(CS, inline=1, fontsize=8)\n",
        "plt.title(\"Contour Plot of Gradient Descent\", fontsize=15)\n",
        "plt.xlabel(\"w0\", fontsize=11)\n",
        "plt.ylabel(\"w1\", fontsize=11)\n",
        "plt.show()\n"
      ],
      "metadata": {
        "colab": {
          "base_uri": "https://localhost:8080/",
          "height": 475
        },
        "id": "oOozwn8oryQH",
        "outputId": "058cece6-85a4-4c22-8f50-4d48587d4c31"
      },
      "execution_count": 49,
      "outputs": [
        {
          "output_type": "display_data",
          "data": {
            "text/plain": [
              "<Figure size 640x480 with 1 Axes>"
            ],
            "image/png": "[encoded data removed]"
          },
          "metadata": {}
        }
      ]
    },
    {
      "cell_type": "code",
      "source": [
        "data.shape"
      ],
      "metadata": {
        "colab": {
          "base_uri": "https://localhost:8080/"
        },
        "id": "nWBXm9ph-y-U",
        "outputId": "ca807181-7446-41eb-800c-af925dd3006b"
      },
      "execution_count": 18,
      "outputs": [
        {
          "output_type": "execute_result",
          "data": {
            "text/plain": [
              "(4746, 12)"
            ]
          },
          "metadata": {},
          "execution_count": 18
        }
      ]
    }
  ],
  "metadata": {
    "colab": {
      "provenance": []
    },
    "kernelspec": {
      "display_name": "Python 3",
      "name": "python3"
    },
    "language_info": {
      "name": "python"
    }
  },
  "nbformat": 4,
  "nbformat_minor": 0
}