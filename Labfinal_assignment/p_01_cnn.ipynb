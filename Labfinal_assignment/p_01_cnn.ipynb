{
  "nbformat": 4,
  "nbformat_minor": 0,
  "metadata": {
    "colab": {
      "provenance": [],
      "gpuType": "T4"
    },
    "kernelspec": {
      "name": "python3",
      "display_name": "Python 3"
    },
    "language_info": {
      "name": "python"
    },
    "accelerator": "GPU"
  },
  "cells": [
    {
      "cell_type": "code",
      "source": [
        "#initialize essential libraries\n",
        "import tensorflow as tf\n",
        "from tensorflow.keras import layers, models\n",
        "from tensorflow.keras.preprocessing.image import ImageDataGenerator\n",
        "import matplotlib.pyplot as plt\n",
        "from sklearn.metrics import classification_report, confusion_matrix"
      ],
      "metadata": {
        "id": "oxe-0XOyhHLE"
      },
      "execution_count": 8,
      "outputs": []
    },
    {
      "cell_type": "code",
      "source": [
        "from google.colab import drive\n",
        "drive.mount('/content/drive')"
      ],
      "metadata": {
        "colab": {
          "base_uri": "https://localhost:8080/"
        },
        "id": "csx2SUkZr6Qa",
        "outputId": "7a183368-0143-4ee6-ed4c-8f5736535726"
      },
      "execution_count": 9,
      "outputs": [
        {
          "output_type": "stream",
          "name": "stdout",
          "text": [
            "Drive already mounted at /content/drive; to attempt to forcibly remount, call drive.mount(\"/content/drive\", force_remount=True).\n"
          ]
        }
      ]
    },
    {
      "cell_type": "code",
      "source": [
        "#load data\n",
        "train_path = '/content/drive/MyDrive/Datasets/Archive/train'\n",
        "val_path = '/content/drive/MyDrive/Datasets/Archive/val'\n",
        "test_path = '/content/drive/MyDrive/Datasets/Archive/test'\n"
      ],
      "metadata": {
        "id": "kTeQRfaahLe3"
      },
      "execution_count": 10,
      "outputs": []
    },
    {
      "cell_type": "code",
      "source": [
        "#set up data generators with data augmentation for training\n",
        "train_datagen = ImageDataGenerator(\n",
        "    rescale=1./255,\n",
        "    shear_range=0.2,\n",
        "    zoom_range=0.2,\n",
        "    horizontal_flip=True\n",
        ")\n",
        "val_datagen = ImageDataGenerator(rescale=1./255)\n"
      ],
      "metadata": {
        "id": "vj7A1bRQhODt"
      },
      "execution_count": 11,
      "outputs": []
    },
    {
      "cell_type": "code",
      "source": [
        "#set batch size and image dimensions\n",
        "batch_size = 32\n",
        "img_height, img_width = 150, 150\n"
      ],
      "metadata": {
        "id": "19RXtnwbhWa0"
      },
      "execution_count": 12,
      "outputs": []
    },
    {
      "cell_type": "code",
      "source": [
        "#generate batches of augmented data\n",
        "train_generator = train_datagen.flow_from_directory(\n",
        "    train_path,\n",
        "    target_size=(img_height, img_width),\n",
        "    batch_size=batch_size,\n",
        "    class_mode='binary'\n",
        ")\n",
        "\n",
        "val_generator = val_datagen.flow_from_directory(\n",
        "    val_path,\n",
        "    target_size=(img_height, img_width),\n",
        "    batch_size=batch_size,\n",
        "    class_mode='binary'\n",
        ")\n"
      ],
      "metadata": {
        "colab": {
          "base_uri": "https://localhost:8080/"
        },
        "id": "Z_-KfqvxhZl3",
        "outputId": "869ae9c7-8429-4db5-c85d-110c17a2d03e"
      },
      "execution_count": 13,
      "outputs": [
        {
          "output_type": "stream",
          "name": "stdout",
          "text": [
            "Found 5216 images belonging to 2 classes.\n",
            "Found 16 images belonging to 2 classes.\n"
          ]
        }
      ]
    },
    {
      "cell_type": "code",
      "source": [
        "#define the model..\n",
        "model = models.Sequential()\n",
        "model.add(layers.Conv2D(32, (3, 3), activation='relu', input_shape=(img_height, img_width, 3)))\n",
        "model.add(layers.MaxPooling2D((2, 2)))\n",
        "model.add(layers.Conv2D(64, (3, 3), activation='relu'))\n",
        "model.add(layers.MaxPooling2D((2, 2)))\n",
        "model.add(layers.Conv2D(128, (3, 3), activation='relu'))\n",
        "model.add(layers.MaxPooling2D((2, 2)))\n",
        "model.add(layers.Flatten())\n",
        "model.add(layers.Dense(128, activation='relu'))\n",
        "model.add(layers.Dense(1, activation='sigmoid'))\n"
      ],
      "metadata": {
        "id": "idIu9gsAhc6g"
      },
      "execution_count": 14,
      "outputs": []
    },
    {
      "cell_type": "code",
      "source": [
        "#compile the model using suitable parametre\n",
        "model.compile(optimizer='adam', loss='binary_crossentropy', metrics=['accuracy'])\n"
      ],
      "metadata": {
        "id": "tcwViedmhhqd"
      },
      "execution_count": 15,
      "outputs": []
    },
    {
      "cell_type": "code",
      "source": [
        "#checking the sample and batch size for tranning purpose\n",
        "print(\"Number of samples in the training set:\", train_generator.samples)\n",
        "print(\"Number of samples in the training set:\", val_generator.samples)\n",
        "print(\"Batch size:\", batch_size)"
      ],
      "metadata": {
        "colab": {
          "base_uri": "https://localhost:8080/"
        },
        "id": "v3C_YctG43-A",
        "outputId": "fb4a3118-59bf-43e8-93be-a8b95ac55699"
      },
      "execution_count": 17,
      "outputs": [
        {
          "output_type": "stream",
          "name": "stdout",
          "text": [
            "Number of samples in the training set: 5216\n",
            "Number of samples in the training set: 16\n",
            "Batch size: 32\n"
          ]
        }
      ]
    },
    {
      "cell_type": "code",
      "source": [
        "#model tranning phase\n",
        "history = model.fit(\n",
        "    train_generator,\n",
        "    steps_per_epoch=len(train_generator),\n",
        "    validation_data=val_generator,\n",
        "    validation_steps=len(val_generator),\n",
        "    epochs=10\n",
        ")\n"
      ],
      "metadata": {
        "colab": {
          "base_uri": "https://localhost:8080/"
        },
        "id": "c9yPSmNmhkI5",
        "outputId": "24d328b0-f7db-43a0-e05a-08799c09482e"
      },
      "execution_count": 23,
      "outputs": [
        {
          "output_type": "stream",
          "name": "stdout",
          "text": [
            "Epoch 1/10\n",
            "163/163 [==============================] - 91s 557ms/step - loss: 0.1855 - accuracy: 0.9245 - val_loss: 0.3901 - val_accuracy: 0.8750\n",
            "Epoch 2/10\n",
            "163/163 [==============================] - 90s 553ms/step - loss: 0.1693 - accuracy: 0.9356 - val_loss: 0.8224 - val_accuracy: 0.6250\n",
            "Epoch 3/10\n",
            "163/163 [==============================] - 91s 558ms/step - loss: 0.1576 - accuracy: 0.9398 - val_loss: 0.5005 - val_accuracy: 0.7500\n",
            "Epoch 4/10\n",
            "163/163 [==============================] - 91s 561ms/step - loss: 0.1456 - accuracy: 0.9456 - val_loss: 1.1501 - val_accuracy: 0.6250\n",
            "Epoch 5/10\n",
            "163/163 [==============================] - 92s 563ms/step - loss: 0.1420 - accuracy: 0.9482 - val_loss: 0.2728 - val_accuracy: 0.8750\n",
            "Epoch 6/10\n",
            "163/163 [==============================] - 90s 551ms/step - loss: 0.1319 - accuracy: 0.9502 - val_loss: 0.6597 - val_accuracy: 0.6250\n",
            "Epoch 7/10\n",
            "163/163 [==============================] - 92s 560ms/step - loss: 0.1183 - accuracy: 0.9565 - val_loss: 0.7220 - val_accuracy: 0.6250\n",
            "Epoch 8/10\n",
            "163/163 [==============================] - 92s 562ms/step - loss: 0.1313 - accuracy: 0.9507 - val_loss: 0.8089 - val_accuracy: 0.6250\n",
            "Epoch 9/10\n",
            "163/163 [==============================] - 93s 566ms/step - loss: 0.1157 - accuracy: 0.9569 - val_loss: 0.5501 - val_accuracy: 0.6250\n",
            "Epoch 10/10\n",
            "163/163 [==============================] - 91s 555ms/step - loss: 0.1097 - accuracy: 0.9613 - val_loss: 0.7659 - val_accuracy: 0.5625\n"
          ]
        }
      ]
    },
    {
      "cell_type": "code",
      "source": [
        "#generate test data\n",
        "test_datagen = ImageDataGenerator(rescale=1./255)\n",
        "test_generator = test_datagen.flow_from_directory(\n",
        "    test_path,\n",
        "    target_size=(img_height, img_width),\n",
        "    batch_size=batch_size,\n",
        "    class_mode='binary'\n",
        ")\n"
      ],
      "metadata": {
        "colab": {
          "base_uri": "https://localhost:8080/"
        },
        "id": "C-JfqET5hmZG",
        "outputId": "c2f9e01c-bf1e-4698-cb1b-5c7585e6febb"
      },
      "execution_count": 24,
      "outputs": [
        {
          "output_type": "stream",
          "name": "stdout",
          "text": [
            "Found 624 images belonging to 2 classes.\n"
          ]
        }
      ]
    },
    {
      "cell_type": "code",
      "source": [
        "#evaluation with test data\n",
        "test_loss, test_acc = model.evaluate(test_generator, steps=len(test_generator))\n",
        "\n",
        "#print accuracy of the model on test data\n",
        "print(\"test data accuracy: {:.2f}%\".format(test_acc * 100))\n"
      ],
      "metadata": {
        "colab": {
          "base_uri": "https://localhost:8080/"
        },
        "id": "8m0uZcFahvWV",
        "outputId": "ae722171-ce33-4c07-f68c-45b7fa3dd0a7"
      },
      "execution_count": 25,
      "outputs": [
        {
          "output_type": "stream",
          "name": "stdout",
          "text": [
            "20/20 [==============================] - 6s 305ms/step - loss: 0.6296 - accuracy: 0.8189\n",
            "test data accuracy: 81.89%\n"
          ]
        }
      ]
    },
    {
      "cell_type": "code",
      "source": [
        "#prediction on test data\n",
        "predictions = model.predict(test_generator, steps=len(test_generator))\n",
        "predicted_classes = (predictions > 0.5).astype(int)\n",
        "\n",
        "#printing classification report and confusion matrix\n",
        "print(\"Classification Report:\\n\", classification_report(test_generator.classes, predicted_classes))\n",
        "print(\"Confusion Matrix:\\n\", confusion_matrix(test_generator.classes, predicted_classes))\n"
      ],
      "metadata": {
        "colab": {
          "base_uri": "https://localhost:8080/"
        },
        "id": "p5ftCvOUhwPb",
        "outputId": "694ab4c3-b6c5-43f8-b824-724456c0e0e3"
      },
      "execution_count": 26,
      "outputs": [
        {
          "output_type": "stream",
          "name": "stdout",
          "text": [
            "20/20 [==============================] - 10s 489ms/step\n",
            "Classification Report:\n",
            "               precision    recall  f1-score   support\n",
            "\n",
            "           0       0.38      0.20      0.26       234\n",
            "           1       0.63      0.80      0.70       390\n",
            "\n",
            "    accuracy                           0.58       624\n",
            "   macro avg       0.50      0.50      0.48       624\n",
            "weighted avg       0.53      0.58      0.54       624\n",
            "\n",
            "Confusion Matrix:\n",
            " [[ 47 187]\n",
            " [ 78 312]]\n"
          ]
        }
      ]
    },
    {
      "cell_type": "code",
      "source": [
        "plt.plot(history.history['accuracy'], label='Training Accuracy')\n",
        "plt.plot(history.history['val_accuracy'], label='Validation Accuracy')\n",
        "plt.xlabel('Epochs')\n",
        "plt.ylabel('Accuracy')\n",
        "plt.title('Training and Validation Accuracy Over Epochs')\n",
        "plt.legend()\n",
        "plt.show()\n"
      ],
      "metadata": {
        "colab": {
          "base_uri": "https://localhost:8080/",
          "height": 472
        },
        "id": "0wd2tRfGhzw7",
        "outputId": "cab1e5d8-952b-4ecc-df82-3837439636cb"
      },
      "execution_count": 28,
      "outputs": [
        {
          "output_type": "display_data",
          "data": {
            "text/plain": [
              "<Figure size 640x480 with 1 Axes>"
            ],
            "image/png": "[encoded data removed]"
          },
          "metadata": {}
        }
      ]
    },
    {
      "cell_type": "code",
      "source": [],
      "metadata": {
        "id": "TCvUQjcNdZj9"
      },
      "execution_count": null,
      "outputs": []
    }
  ]
}